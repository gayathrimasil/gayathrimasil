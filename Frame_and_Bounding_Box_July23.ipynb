{
  "nbformat": 4,
  "nbformat_minor": 0,
  "metadata": {
    "colab": {
      "provenance": [],
      "authorship_tag": "ABX9TyN/TuRDD7Itioa6mWSJX1oW",
      "include_colab_link": true
    },
    "kernelspec": {
      "name": "python3",
      "display_name": "Python 3"
    },
    "language_info": {
      "name": "python"
    }
  },
  "cells": [
    {
      "cell_type": "markdown",
      "metadata": {
        "id": "view-in-github",
        "colab_type": "text"
      },
      "source": [
        "<a href=\"https://colab.research.google.com/github/gayathrimasil/gayathrimasil/blob/main/Frame_and_Bounding_Box_July23.ipynb\" target=\"_parent\"><img src=\"https://colab.research.google.com/assets/colab-badge.svg\" alt=\"Open In Colab\"/></a>"
      ]
    },
    {
      "cell_type": "markdown",
      "source": [
        "# **Install Required Packages**"
      ],
      "metadata": {
        "id": "AqN6Cl_83cd7"
      }
    },
    {
      "cell_type": "code",
      "execution_count": null,
      "metadata": {
        "colab": {
          "base_uri": "https://localhost:8080/"
        },
        "id": "Y-Oz29E22ZLf",
        "outputId": "f33c6c8a-4269-41fa-e947-82f02a85b5ef"
      },
      "outputs": [
        {
          "output_type": "stream",
          "name": "stdout",
          "text": [
            "Requirement already satisfied: torch in /usr/local/lib/python3.10/dist-packages (2.0.1+cu118)\n",
            "Requirement already satisfied: torchvision in /usr/local/lib/python3.10/dist-packages (0.15.2+cu118)\n",
            "Requirement already satisfied: filelock in /usr/local/lib/python3.10/dist-packages (from torch) (3.12.2)\n",
            "Requirement already satisfied: typing-extensions in /usr/local/lib/python3.10/dist-packages (from torch) (4.7.1)\n",
            "Requirement already satisfied: sympy in /usr/local/lib/python3.10/dist-packages (from torch) (1.11.1)\n",
            "Requirement already satisfied: networkx in /usr/local/lib/python3.10/dist-packages (from torch) (3.1)\n",
            "Requirement already satisfied: jinja2 in /usr/local/lib/python3.10/dist-packages (from torch) (3.1.2)\n",
            "Requirement already satisfied: triton==2.0.0 in /usr/local/lib/python3.10/dist-packages (from torch) (2.0.0)\n",
            "Requirement already satisfied: cmake in /usr/local/lib/python3.10/dist-packages (from triton==2.0.0->torch) (3.25.2)\n",
            "Requirement already satisfied: lit in /usr/local/lib/python3.10/dist-packages (from triton==2.0.0->torch) (16.0.6)\n",
            "Requirement already satisfied: numpy in /usr/local/lib/python3.10/dist-packages (from torchvision) (1.22.4)\n",
            "Requirement already satisfied: requests in /usr/local/lib/python3.10/dist-packages (from torchvision) (2.27.1)\n",
            "Requirement already satisfied: pillow!=8.3.*,>=5.3.0 in /usr/local/lib/python3.10/dist-packages (from torchvision) (8.4.0)\n",
            "Requirement already satisfied: MarkupSafe>=2.0 in /usr/local/lib/python3.10/dist-packages (from jinja2->torch) (2.1.3)\n",
            "Requirement already satisfied: urllib3<1.27,>=1.21.1 in /usr/local/lib/python3.10/dist-packages (from requests->torchvision) (1.26.16)\n",
            "Requirement already satisfied: certifi>=2017.4.17 in /usr/local/lib/python3.10/dist-packages (from requests->torchvision) (2023.5.7)\n",
            "Requirement already satisfied: charset-normalizer~=2.0.0 in /usr/local/lib/python3.10/dist-packages (from requests->torchvision) (2.0.12)\n",
            "Requirement already satisfied: idna<4,>=2.5 in /usr/local/lib/python3.10/dist-packages (from requests->torchvision) (3.4)\n",
            "Requirement already satisfied: mpmath>=0.19 in /usr/local/lib/python3.10/dist-packages (from sympy->torch) (1.3.0)\n",
            "Requirement already satisfied: opencv-python-headless in /usr/local/lib/python3.10/dist-packages (4.8.0.74)\n",
            "Requirement already satisfied: numpy>=1.21.2 in /usr/local/lib/python3.10/dist-packages (from opencv-python-headless) (1.22.4)\n",
            "Requirement already satisfied: pandas in /usr/local/lib/python3.10/dist-packages (1.5.3)\n",
            "Requirement already satisfied: python-dateutil>=2.8.1 in /usr/local/lib/python3.10/dist-packages (from pandas) (2.8.2)\n",
            "Requirement already satisfied: pytz>=2020.1 in /usr/local/lib/python3.10/dist-packages (from pandas) (2022.7.1)\n",
            "Requirement already satisfied: numpy>=1.21.0 in /usr/local/lib/python3.10/dist-packages (from pandas) (1.22.4)\n",
            "Requirement already satisfied: six>=1.5 in /usr/local/lib/python3.10/dist-packages (from python-dateutil>=2.8.1->pandas) (1.16.0)\n",
            "Requirement already satisfied: tqdm in /usr/local/lib/python3.10/dist-packages (4.65.0)\n"
          ]
        }
      ],
      "source": [
        "!pip install torch torchvision\n",
        "!pip install opencv-python-headless\n",
        "!pip install pandas\n",
        "!pip install tqdm"
      ]
    },
    {
      "cell_type": "code",
      "source": [
        "!pip install --upgrade pillow\n"
      ],
      "metadata": {
        "colab": {
          "base_uri": "https://localhost:8080/"
        },
        "id": "J9Pqedg88Oau",
        "outputId": "2744d492-1ea7-47cb-f280-4b7abaa1127c"
      },
      "execution_count": null,
      "outputs": [
        {
          "output_type": "stream",
          "name": "stdout",
          "text": [
            "Requirement already satisfied: pillow in /usr/local/lib/python3.10/dist-packages (10.0.0)\n"
          ]
        }
      ]
    },
    {
      "cell_type": "markdown",
      "source": [
        "# **Clone Repository and Install Required Dependencies**"
      ],
      "metadata": {
        "id": "_FiaAXhR3fi2"
      }
    },
    {
      "cell_type": "code",
      "source": [
        "!git clone https://github.com/ultralytics/yolov5.git\n",
        "%cd yolov5 # Navigate to Directory\n",
        "!pip install -U -r requirements.txt"
      ],
      "metadata": {
        "colab": {
          "base_uri": "https://localhost:8080/"
        },
        "id": "elcDf9cO2jXA",
        "outputId": "ae4225a0-9342-4b41-f2ee-86106f21d013"
      },
      "execution_count": null,
      "outputs": [
        {
          "output_type": "stream",
          "name": "stdout",
          "text": [
            "Cloning into 'yolov5'...\n",
            "remote: Enumerating objects: 15821, done.\u001b[K\n",
            "remote: Counting objects: 100% (53/53), done.\u001b[K\n",
            "remote: Compressing objects: 100% (43/43), done.\u001b[K\n",
            "remote: Total 15821 (delta 14), reused 26 (delta 10), pack-reused 15768\u001b[K\n",
            "Receiving objects: 100% (15821/15821), 14.65 MiB | 14.33 MiB/s, done.\n",
            "Resolving deltas: 100% (10826/10826), done.\n",
            "[Errno 2] No such file or directory: 'yolov5 # Navigate to Directory'\n",
            "/content/yolov5\n",
            "Requirement already satisfied: gitpython>=3.1.30 in /usr/local/lib/python3.10/dist-packages (from -r requirements.txt (line 5)) (3.1.32)\n",
            "Requirement already satisfied: matplotlib>=3.3 in /usr/local/lib/python3.10/dist-packages (from -r requirements.txt (line 6)) (3.7.2)\n",
            "Requirement already satisfied: numpy>=1.18.5 in /usr/local/lib/python3.10/dist-packages (from -r requirements.txt (line 7)) (1.25.1)\n",
            "Requirement already satisfied: opencv-python>=4.1.1 in /usr/local/lib/python3.10/dist-packages (from -r requirements.txt (line 8)) (4.8.0.74)\n",
            "Requirement already satisfied: Pillow>=7.1.2 in /usr/local/lib/python3.10/dist-packages (from -r requirements.txt (line 9)) (10.0.0)\n",
            "Requirement already satisfied: psutil in /usr/local/lib/python3.10/dist-packages (from -r requirements.txt (line 10)) (5.9.5)\n",
            "Requirement already satisfied: PyYAML>=5.3.1 in /usr/local/lib/python3.10/dist-packages (from -r requirements.txt (line 11)) (6.0.1)\n",
            "Requirement already satisfied: requests>=2.23.0 in /usr/local/lib/python3.10/dist-packages (from -r requirements.txt (line 12)) (2.31.0)\n",
            "Requirement already satisfied: scipy>=1.4.1 in /usr/local/lib/python3.10/dist-packages (from -r requirements.txt (line 13)) (1.11.1)\n",
            "Requirement already satisfied: thop>=0.1.1 in /usr/local/lib/python3.10/dist-packages (from -r requirements.txt (line 14)) (0.1.1.post2209072238)\n",
            "Requirement already satisfied: torch>=1.7.0 in /usr/local/lib/python3.10/dist-packages (from -r requirements.txt (line 15)) (2.0.1+cu118)\n",
            "Requirement already satisfied: torchvision>=0.8.1 in /usr/local/lib/python3.10/dist-packages (from -r requirements.txt (line 16)) (0.15.2+cu118)\n",
            "Requirement already satisfied: tqdm>=4.64.0 in /usr/local/lib/python3.10/dist-packages (from -r requirements.txt (line 17)) (4.65.0)\n",
            "Requirement already satisfied: ultralytics>=8.0.111 in /usr/local/lib/python3.10/dist-packages (from -r requirements.txt (line 18)) (8.0.141)\n",
            "Requirement already satisfied: pandas>=1.1.4 in /usr/local/lib/python3.10/dist-packages (from -r requirements.txt (line 27)) (2.0.3)\n",
            "Requirement already satisfied: seaborn>=0.11.0 in /usr/local/lib/python3.10/dist-packages (from -r requirements.txt (line 28)) (0.12.2)\n",
            "Requirement already satisfied: setuptools>=65.5.1 in /usr/local/lib/python3.10/dist-packages (from -r requirements.txt (line 42)) (68.0.0)\n",
            "Requirement already satisfied: gitdb<5,>=4.0.1 in /usr/local/lib/python3.10/dist-packages (from gitpython>=3.1.30->-r requirements.txt (line 5)) (4.0.10)\n",
            "Requirement already satisfied: contourpy>=1.0.1 in /usr/local/lib/python3.10/dist-packages (from matplotlib>=3.3->-r requirements.txt (line 6)) (1.1.0)\n",
            "Requirement already satisfied: cycler>=0.10 in /usr/local/lib/python3.10/dist-packages (from matplotlib>=3.3->-r requirements.txt (line 6)) (0.11.0)\n",
            "Requirement already satisfied: fonttools>=4.22.0 in /usr/local/lib/python3.10/dist-packages (from matplotlib>=3.3->-r requirements.txt (line 6)) (4.41.0)\n",
            "Requirement already satisfied: kiwisolver>=1.0.1 in /usr/local/lib/python3.10/dist-packages (from matplotlib>=3.3->-r requirements.txt (line 6)) (1.4.4)\n",
            "Requirement already satisfied: packaging>=20.0 in /usr/local/lib/python3.10/dist-packages (from matplotlib>=3.3->-r requirements.txt (line 6)) (23.1)\n",
            "Requirement already satisfied: pyparsing<3.1,>=2.3.1 in /usr/local/lib/python3.10/dist-packages (from matplotlib>=3.3->-r requirements.txt (line 6)) (3.0.9)\n",
            "Requirement already satisfied: python-dateutil>=2.7 in /usr/local/lib/python3.10/dist-packages (from matplotlib>=3.3->-r requirements.txt (line 6)) (2.8.2)\n",
            "Requirement already satisfied: charset-normalizer<4,>=2 in /usr/local/lib/python3.10/dist-packages (from requests>=2.23.0->-r requirements.txt (line 12)) (2.0.12)\n",
            "Requirement already satisfied: idna<4,>=2.5 in /usr/local/lib/python3.10/dist-packages (from requests>=2.23.0->-r requirements.txt (line 12)) (3.4)\n",
            "Requirement already satisfied: urllib3<3,>=1.21.1 in /usr/local/lib/python3.10/dist-packages (from requests>=2.23.0->-r requirements.txt (line 12)) (1.26.16)\n",
            "Requirement already satisfied: certifi>=2017.4.17 in /usr/local/lib/python3.10/dist-packages (from requests>=2.23.0->-r requirements.txt (line 12)) (2023.5.7)\n",
            "Requirement already satisfied: filelock in /usr/local/lib/python3.10/dist-packages (from torch>=1.7.0->-r requirements.txt (line 15)) (3.12.2)\n",
            "Requirement already satisfied: typing-extensions in /usr/local/lib/python3.10/dist-packages (from torch>=1.7.0->-r requirements.txt (line 15)) (4.7.1)\n",
            "Requirement already satisfied: sympy in /usr/local/lib/python3.10/dist-packages (from torch>=1.7.0->-r requirements.txt (line 15)) (1.11.1)\n",
            "Requirement already satisfied: networkx in /usr/local/lib/python3.10/dist-packages (from torch>=1.7.0->-r requirements.txt (line 15)) (3.1)\n",
            "Requirement already satisfied: jinja2 in /usr/local/lib/python3.10/dist-packages (from torch>=1.7.0->-r requirements.txt (line 15)) (3.1.2)\n",
            "Requirement already satisfied: triton==2.0.0 in /usr/local/lib/python3.10/dist-packages (from torch>=1.7.0->-r requirements.txt (line 15)) (2.0.0)\n",
            "Requirement already satisfied: cmake in /usr/local/lib/python3.10/dist-packages (from triton==2.0.0->torch>=1.7.0->-r requirements.txt (line 15)) (3.25.2)\n",
            "Requirement already satisfied: lit in /usr/local/lib/python3.10/dist-packages (from triton==2.0.0->torch>=1.7.0->-r requirements.txt (line 15)) (16.0.6)\n",
            "Requirement already satisfied: pytz>=2020.1 in /usr/local/lib/python3.10/dist-packages (from pandas>=1.1.4->-r requirements.txt (line 27)) (2022.7.1)\n",
            "Requirement already satisfied: tzdata>=2022.1 in /usr/local/lib/python3.10/dist-packages (from pandas>=1.1.4->-r requirements.txt (line 27)) (2023.3)\n",
            "Requirement already satisfied: smmap<6,>=3.0.1 in /usr/local/lib/python3.10/dist-packages (from gitdb<5,>=4.0.1->gitpython>=3.1.30->-r requirements.txt (line 5)) (5.0.0)\n",
            "Requirement already satisfied: six>=1.5 in /usr/local/lib/python3.10/dist-packages (from python-dateutil>=2.7->matplotlib>=3.3->-r requirements.txt (line 6)) (1.16.0)\n",
            "Requirement already satisfied: MarkupSafe>=2.0 in /usr/local/lib/python3.10/dist-packages (from jinja2->torch>=1.7.0->-r requirements.txt (line 15)) (2.1.3)\n",
            "Requirement already satisfied: mpmath>=0.19 in /usr/local/lib/python3.10/dist-packages (from sympy->torch>=1.7.0->-r requirements.txt (line 15)) (1.3.0)\n"
          ]
        }
      ]
    },
    {
      "cell_type": "markdown",
      "source": [
        "# **Mount Google Drive**"
      ],
      "metadata": {
        "id": "KcDb5gVg3bdm"
      }
    },
    {
      "cell_type": "code",
      "source": [
        "from google.colab import drive\n",
        "\n",
        "# Mount Google Drive\n",
        "drive.mount('/content/drive')"
      ],
      "metadata": {
        "colab": {
          "base_uri": "https://localhost:8080/"
        },
        "id": "IYBsKji03tiz",
        "outputId": "4d1cc188-1d9f-46ae-d0e2-fe06d092c227"
      },
      "execution_count": null,
      "outputs": [
        {
          "output_type": "stream",
          "name": "stdout",
          "text": [
            "Mounted at /content/drive\n"
          ]
        }
      ]
    },
    {
      "cell_type": "code",
      "source": [
        "!pip install pillow\n"
      ],
      "metadata": {
        "colab": {
          "base_uri": "https://localhost:8080/",
          "height": 572
        },
        "id": "DDSqqd6-8b0W",
        "outputId": "ba480cfe-a5e2-4415-c19d-e7487e60e4fb"
      },
      "execution_count": null,
      "outputs": [
        {
          "output_type": "stream",
          "name": "stdout",
          "text": [
            "Found existing installation: Pillow 10.0.0\n",
            "Uninstalling Pillow-10.0.0:\n",
            "  Would remove:\n",
            "    /usr/local/lib/python3.10/dist-packages/PIL/*\n",
            "    /usr/local/lib/python3.10/dist-packages/Pillow-10.0.0.dist-info/*\n",
            "    /usr/local/lib/python3.10/dist-packages/Pillow.libs/libXau-154567c4.so.6.0.0\n",
            "    /usr/local/lib/python3.10/dist-packages/Pillow.libs/libbrotlicommon-702ab7f8.so.1\n",
            "    /usr/local/lib/python3.10/dist-packages/Pillow.libs/libbrotlidec-7a796284.so.1.0.9\n",
            "    /usr/local/lib/python3.10/dist-packages/Pillow.libs/libfreetype-8b16add1.so.6.20.0\n",
            "    /usr/local/lib/python3.10/dist-packages/Pillow.libs/libharfbuzz-adaef2a2.so.0.60730.0\n",
            "    /usr/local/lib/python3.10/dist-packages/Pillow.libs/libjpeg-dab02bf4.so.62.3.0\n",
            "    /usr/local/lib/python3.10/dist-packages/Pillow.libs/liblcms2-0821774a.so.2.0.15\n",
            "    /usr/local/lib/python3.10/dist-packages/Pillow.libs/liblzma-9dd5c569.so.5.4.3\n",
            "    /usr/local/lib/python3.10/dist-packages/Pillow.libs/libopenjp2-20e347f0.so.2.5.0\n",
            "    /usr/local/lib/python3.10/dist-packages/Pillow.libs/libpng16-39c06ea1.so.16.40.0\n",
            "    /usr/local/lib/python3.10/dist-packages/Pillow.libs/libsharpyuv-20f78091.so.0.0.1\n",
            "    /usr/local/lib/python3.10/dist-packages/Pillow.libs/libtiff-189042a3.so.6.0.1\n",
            "    /usr/local/lib/python3.10/dist-packages/Pillow.libs/libwebp-8b6d8948.so.7.1.7\n",
            "    /usr/local/lib/python3.10/dist-packages/Pillow.libs/libwebpdemux-fc93391d.so.2.0.13\n",
            "    /usr/local/lib/python3.10/dist-packages/Pillow.libs/libwebpmux-b3bcb8ec.so.3.0.12\n",
            "    /usr/local/lib/python3.10/dist-packages/Pillow.libs/libxcb-cd9c1006.so.1.1.0\n",
            "Proceed (Y/n)? y\n",
            "  Successfully uninstalled Pillow-10.0.0\n",
            "Collecting pillow\n",
            "  Using cached Pillow-10.0.0-cp310-cp310-manylinux_2_28_x86_64.whl (3.4 MB)\n",
            "Installing collected packages: pillow\n",
            "Successfully installed pillow-10.0.0\n"
          ]
        },
        {
          "output_type": "display_data",
          "data": {
            "application/vnd.colab-display-data+json": {
              "pip_warning": {
                "packages": [
                  "PIL"
                ]
              }
            }
          },
          "metadata": {}
        }
      ]
    },
    {
      "cell_type": "markdown",
      "source": [
        "# **Install Ultralytics and Check Dependencies**"
      ],
      "metadata": {
        "id": "TkD_I9Kc31ul"
      }
    },
    {
      "cell_type": "code",
      "source": [
        "%pip install ultralytics\n",
        "import ultralytics\n",
        "ultralytics.checks()"
      ],
      "metadata": {
        "colab": {
          "base_uri": "https://localhost:8080/"
        },
        "id": "Xdiv53KH30fN",
        "outputId": "b353d555-3a69-4246-a293-199aa0b4068f"
      },
      "execution_count": null,
      "outputs": [
        {
          "output_type": "stream",
          "name": "stderr",
          "text": [
            "Ultralytics YOLOv8.0.141 🚀 Python-3.10.6 torch-2.0.1+cu118 CPU (AMD EPYC 7B12)\n",
            "Setup complete ✅ (2 CPUs, 12.7 GB RAM, 25.0/107.7 GB disk)\n"
          ]
        }
      ]
    },
    {
      "cell_type": "markdown",
      "source": [
        "# **Import Required Libraries**"
      ],
      "metadata": {
        "id": "hxotJdDz3_op"
      }
    },
    {
      "cell_type": "code",
      "source": [
        "import os\n",
        "import cv2\n",
        "import torch\n",
        "import pandas as pd\n",
        "from tqdm import tqdm\n",
        "from pathlib import Path"
      ],
      "metadata": {
        "id": "nIScEAL630ik"
      },
      "execution_count": null,
      "outputs": []
    },
    {
      "cell_type": "markdown",
      "source": [
        "# **Define paths**"
      ],
      "metadata": {
        "id": "f_AKU3X_4JB5"
      }
    },
    {
      "cell_type": "code",
      "source": [
        "wlasl_json = \"/content/drive/MyDrive/SLR/new_json_csv.txt\"\n",
        "wlasl_videos = \"/content/drive/MyDrive/SLR/sample Videos\"\n",
        "output_coordinates = \"/content/drive/MyDrive/SLR/coordinates_with_details.csv\"\n",
        "wlasl_frames_folder = \"/content/drive/MyDrive/SLR/frames_with_details\"\n",
        "yolov5_model_path = \"/content/drive/MyDrive/SLR/yolov5/yolov5s.pt\""
      ],
      "metadata": {
        "id": "6jnDZY-X30mh"
      },
      "execution_count": 7,
      "outputs": []
    },
    {
      "cell_type": "markdown",
      "source": [
        "# **Load YoloV5 Model**"
      ],
      "metadata": {
        "id": "LdaVgIAI4jkD"
      }
    },
    {
      "cell_type": "code",
      "source": [
        "device = torch.device(\"cuda\" if torch.cuda.is_available() else \"cpu\")\n",
        "model = torch.hub.load(\"ultralytics/yolov5\", \"custom\", path=yolov5_model_path).to(device)"
      ],
      "metadata": {
        "colab": {
          "base_uri": "https://localhost:8080/"
        },
        "id": "MlbQ1BJz30ql",
        "outputId": "92853eb0-05f3-40a6-8733-164b5936ef59"
      },
      "execution_count": null,
      "outputs": [
        {
          "output_type": "stream",
          "name": "stderr",
          "text": [
            "Using cache found in /root/.cache/torch/hub/ultralytics_yolov5_master\n",
            "WARNING ⚠️ 'ultralytics.yolo.v8' is deprecated since '8.0.136' and will be removed in '8.1.0'. Please use 'ultralytics.models.yolo' instead.\n",
            "WARNING ⚠️ 'ultralytics.yolo.utils' is deprecated since '8.0.136' and will be removed in '8.1.0'. Please use 'ultralytics.utils' instead.\n",
            "Note this warning may be related to loading older models. You can update your model to current structure with:\n",
            "    import torch\n",
            "    ckpt = torch.load(\"model.pt\")  # applies to both official and custom models\n",
            "    torch.save(ckpt, \"updated-model.pt\")\n",
            "\n",
            "YOLOv5 🚀 2023-7-23 Python-3.10.6 torch-2.0.1+cu118 CPU\n",
            "\n",
            "Fusing layers... \n",
            "YOLOv5s summary: 213 layers, 7225885 parameters, 0 gradients\n",
            "Adding AutoShape... \n"
          ]
        }
      ]
    },
    {
      "cell_type": "markdown",
      "source": [
        "# **Load file to dataframe**"
      ],
      "metadata": {
        "id": "b8e2AfGX4ITN"
      }
    },
    {
      "cell_type": "code",
      "source": [
        "# Load CSV file into a DataFrame with 'videoID' column as text\n",
        "df = pd.read_csv(wlasl_json, dtype={\"videoID\": str})\n"
      ],
      "metadata": {
        "id": "VvTukLGs30uj"
      },
      "execution_count": 8,
      "outputs": []
    },
    {
      "cell_type": "markdown",
      "source": [
        "# **Frame Extraction, Object Detection, Bounding Box Coordinates**"
      ],
      "metadata": {
        "id": "GOt2PuHH46n6"
      }
    },
    {
      "cell_type": "code",
      "source": [
        "# Helper function to perform object detection on a single frame\n",
        "def detect_human_objects(image):\n",
        "    results = model(image)\n",
        "    detected_results = results.pandas().xyxy[0]\n",
        "    return detected_results[detected_results[\"name\"] == \"person\"]\n",
        "\n",
        "# Process each line in the text file and update bounding box coordinates and extract frames\n",
        "detected_boxes = []\n",
        "for _, line in tqdm(df.iterrows(), total=len(df)):\n",
        "    video_id = line['videoID']  # Video ID as string (keeping the leading zeros)\n",
        "    video_filename = f\"{video_id}.mp4\"\n",
        "    video_filepath = os.path.join(wlasl_videos, video_filename)\n",
        "\n",
        "    if not os.path.exists(video_filepath):\n",
        "        print(f\"Warning: Video file '{video_filepath}' not found for video ID '{video_id}'.\")\n",
        "        continue\n",
        "\n",
        "    # Create a folder for this video's frames\n",
        "    video_folder = os.path.join(wlasl_frames_folder, video_id)\n",
        "    os.makedirs(video_folder, exist_ok=True)\n",
        "\n",
        "    # Open the video file\n",
        "    cap = cv2.VideoCapture(video_filepath)\n",
        "    frame_count = int(cap.get(cv2.CAP_PROP_FRAME_COUNT))\n",
        "\n",
        "    frame_start = line['frame_start']\n",
        "    frame_end = line['frame_end']\n",
        "\n",
        "    # Check if frame_start and frame_end are within the valid range of frame numbers\n",
        "    if frame_start < 0:\n",
        "        frame_start = 0\n",
        "    if frame_end >= frame_count:\n",
        "        frame_end = frame_count - 1\n",
        "\n",
        "    for frame_num in range(frame_start, frame_end + 1):\n",
        "        success, frame = cap.read()\n",
        "\n",
        "        if not success:\n",
        "            break\n",
        "\n",
        "        # Convert BGR to RGB (YOLOv5 requires RGB images)\n",
        "        frame_rgb = cv2.cvtColor(frame, cv2.COLOR_BGR2RGB)\n",
        "\n",
        "        # Save the frame as an image file in the video's folder\n",
        "        frame_filename = f\"frame{frame_num:04d}.jpg\"\n",
        "        frame_filepath = os.path.join(video_folder, frame_filename)\n",
        "        cv2.imwrite(frame_filepath, frame_rgb)\n",
        "\n",
        "        detected_results = detect_human_objects(frame_rgb)\n",
        "\n",
        "        if len(detected_results) > 0:\n",
        "            # Get the bounding box coordinates for the first detected person (you can modify this logic if needed)\n",
        "            x_min, y_min, x_max, y_max = detected_results.iloc[0].values[:4]\n",
        "            detected_boxes.append((video_id, line['signerID'], line['gloss'], line['fps'], frame_num, x_min, y_min, x_max, y_max, line['instance_id'], line['variation_id'], line['frame_end'], line['frame_start']))\n",
        "\n",
        "    cap.release()\n",
        "\n",
        "# Create DataFrame with detected bounding boxes and additional details\n",
        "columns = ['videoID', 'signerID', 'gloss', 'fps', 'frame_num', 'x_min', 'y_min', 'x_max', 'y_max', 'instance_id', 'variation_id', 'frame_end', 'frame_start']\n",
        "df_updated = pd.DataFrame(detected_boxes, columns=columns)\n",
        "\n",
        "# Save updated DataFrame to a new CSV file\n",
        "output_folder = os.path.dirname(output_coordinates)\n",
        "os.makedirs(output_folder, exist_ok=True)  # Create the output folder if it doesn't exist\n",
        "df_updated.to_csv(output_coordinates, index=False)\n",
        "\n",
        "print(\"Frame extraction, object detection, and CSV update completed!\")\n"
      ],
      "metadata": {
        "colab": {
          "base_uri": "https://localhost:8080/"
        },
        "id": "C3tqVdN430w-",
        "outputId": "e60c20fa-a48c-4338-c775-06de1ba10cec"
      },
      "execution_count": 9,
      "outputs": [
        {
          "output_type": "stream",
          "name": "stderr",
          "text": [
            "100%|██████████| 131/131 [01:30<00:00,  1.44it/s]"
          ]
        },
        {
          "output_type": "stream",
          "name": "stdout",
          "text": [
            "Frame extraction, object detection, and CSV update completed!\n"
          ]
        },
        {
          "output_type": "stream",
          "name": "stderr",
          "text": [
            "\n"
          ]
        }
      ]
    },
    {
      "cell_type": "markdown",
      "source": [],
      "metadata": {
        "id": "Ixi05xqV5ftS"
      }
    },
    {
      "cell_type": "code",
      "source": [],
      "metadata": {
        "id": "r2OS4eno302b"
      },
      "execution_count": null,
      "outputs": []
    }
  ]
}